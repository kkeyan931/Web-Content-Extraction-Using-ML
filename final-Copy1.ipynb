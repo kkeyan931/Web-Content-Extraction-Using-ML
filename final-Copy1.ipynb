{
 "cells": [
  {
   "cell_type": "markdown",
   "id": "1ea1bc02",
   "metadata": {},
   "source": [
    "# Web Content Extraction using Machine Learning"
   ]
  },
  {
   "cell_type": "code",
   "execution_count": 116,
   "id": "f5730374",
   "metadata": {},
   "outputs": [],
   "source": [
    "import requests\n",
    "from bs4 import BeautifulSoup\n",
    "import pandas as pd\n",
    "import heapq\n",
    "import pylcs as LCS\n",
    "\n",
    "from collections import Counter\n",
    "\n",
    "import numpy as np\n",
    "\n",
    "from sklearn.preprocessing import StandardScaler\n",
    "from sklearn.cluster import DBSCAN\n",
    "from sklearn.model_selection import train_test_split\n",
    "from sklearn.svm import SVC\n",
    "from sklearn.metrics import f1_score,confusion_matrix\n",
    "\n",
    "from sklearn.decomposition import PCA\n",
    "from sklearn.discriminant_analysis import LinearDiscriminantAnalysis as LDA\n",
    "import matplotlib.pyplot as plt\n",
    "\n",
    "import seaborn as sns"
   ]
  },
  {
   "cell_type": "markdown",
   "id": "411b9545",
   "metadata": {},
   "source": [
    "## Data Retrieval"
   ]
  },
  {
   "cell_type": "code",
   "execution_count": 117,
   "id": "6fbdb815",
   "metadata": {},
   "outputs": [
    {
     "name": "stdout",
     "output_type": "stream",
     "text": [
      "b'<!doctype html><html xmlns=\"http://www.w3.org/1999/xhtml\" itemscope itemtype=\"http://schema.org/NewsArticle\"><head><title>At Delhi Oxygen Hearing, &quot;Brother Judge&quot; Sends NDTV News On WhatsApp</title><meta name=\"news_keywords\" content=\"Coronavirus,Delhi High Court,NDTV\" itemprop=\"keywords\"/><meta name=\"description\" content=\"The full horror of an oxygen shortage in Delhi&#039;s Covid spiral sank in before the High Court today when NDTV&#039;s reports on top hospitals running out of oxygen were flagged by one of the judges.\" itemprop=\"description\"/><meta name=\"section\" content=\"india\" itemprop=\"articleSection\"/><meta name=\"url\" content=\"https://www.ndtv.com/india-news/ndtv-news-on-oxygen-supply-cited-by-delhi-high-court-2418022\" itemprop=\"url\"/><link href=\"https://www.ndtv.com/india-news/ndtv-news-on-oxygen-supply-cited-by-delhi-high-court-2418022?amp=1&akamai-rum=off\" rel=\"amphtml\" ><link href=\"https://plus.google.com/+NDTV\" rel=\"publisher\" ><link href=\"android-app://com.july.nd'\n"
     ]
    }
   ],
   "source": [
    "URL = \"https://www.ndtv.com/india-news/ndtv-news-on-oxygen-supply-cited-by-delhi-high-court-2418022\"\n",
    "page = requests.get(URL)\n",
    "soup = BeautifulSoup(page.content, 'html5lib')\n",
    "print(page.content[0:1000])"
   ]
  },
  {
   "cell_type": "markdown",
   "id": "1e7bffbc",
   "metadata": {},
   "source": [
    "## Extracting the Meta Content"
   ]
  },
  {
   "cell_type": "code",
   "execution_count": 118,
   "id": "9d04d564",
   "metadata": {},
   "outputs": [],
   "source": [
    "meta = []\n",
    "for tag in soup.findAll(True):\n",
    "    if tag.name == \"meta\":\n",
    "        meta.append(tag.attrs)\n",
    "\n",
    "metaContent = []\n",
    "for dic in meta:\n",
    "    metaContent.append(dic[\"content\"])\n",
    "\n",
    "metaContent = []\n",
    "for dic in meta:\n",
    "    metaContent.append(dic[\"content\"])"
   ]
  },
  {
   "cell_type": "markdown",
   "id": "86750f3a",
   "metadata": {},
   "source": [
    "### Removing Noises in the Meta Content"
   ]
  },
  {
   "cell_type": "code",
   "execution_count": 119,
   "id": "db2f466f",
   "metadata": {},
   "outputs": [],
   "source": [
    "noise = [\"https\", \".com\", \"com.\", \"www\", \"@\", \":\", \"=\", \"#\"]\n",
    "metaContentFinal = []\n",
    "for content in metaContent:\n",
    "    if any(i in content for i in noise):\n",
    "        pass\n",
    "    else:\n",
    "        metaContentFinal.append(content)\n",
    "\n",
    "metaContentStr = \"\"\n",
    "\n",
    "for content in metaContentFinal:\n",
    "    metaContentStr = metaContentStr + content"
   ]
  },
  {
   "cell_type": "code",
   "execution_count": 120,
   "id": "b5c08025",
   "metadata": {},
   "outputs": [
    {
     "name": "stdout",
     "output_type": "stream",
     "text": [
      "Coronavirus,Delhi High Court,NDTVThe full horror of an oxygen shortage in Delhi's Covid spiral sank in before the High Court today when NDTV's reports on top hospitals running out of oxygen were flagged by one of the judges.indiaCoronavirus,Delhi High Court,NDTVAt Delhi Oxygen Hearing, \"Brother Judge\" Sends NDTV News On WhatsApparticle630473The full horror of an oxygen shortage in Delhi's Covid spiral sank in before the High Court today when NDTV's reports on top hospitals running out of oxygen were flagged by one of the judges.213741912058651NDTV377869410NDTV390847563NDTV HDsummary_large_imageAt Delhi Oxygen Hearing, \"Brother Judge\" Sends NDTV News On WhatsAppThe full horror of an oxygen shortage in Delhi's Covid spiral sank in before the High Court today when NDTV's reports on top hospitals running out of oxygen were flagged by one of the judges.newsAt Delhi Oxygen Hearing, \"Brother Judge\" Sends NDTV News On WhatsAppNDTV377869410NDTV HDNDTV10030NDTV123At Delhi Oxygen Hearing, \"Brother Judge\" Sends NDTV News On WhatsAppAt Delhi Oxygen Hearing, \"Brother Judge\" Sends NDTV News On WhatsAppAt Delhi Oxygen Hearing, \"Brother Judge\" Sends NDTV News On WhatsAppT1M20S1200886\n"
     ]
    }
   ],
   "source": [
    "print(metaContentStr)"
   ]
  },
  {
   "cell_type": "markdown",
   "id": "62eb76be",
   "metadata": {},
   "source": [
    "## Feature Extraction"
   ]
  },
  {
   "cell_type": "markdown",
   "id": "f5268bed",
   "metadata": {},
   "source": [
    "### Tags, Texts, Attributes Extraction"
   ]
  },
  {
   "cell_type": "code",
   "execution_count": 121,
   "id": "e2e4b3b1",
   "metadata": {},
   "outputs": [],
   "source": [
    "tags = []\n",
    "texts = []\n",
    "attrs = []\n",
    "\n",
    "for tag in soup.findAll(True):\n",
    "    if (tag.name == \"style\") or (tag.name == \"script\") or (tag.name == \"body\") or (tag.name == \"div\") or (tag.name == \"html\") or (tag.name == \"head\"):\n",
    "        continue\n",
    "    else:\n",
    "        tags.append(tag.name)\n",
    "        texts.append(tag.text)\n",
    "        attrs.append(tag.attrs)"
   ]
  },
  {
   "cell_type": "code",
   "execution_count": 122,
   "id": "077e719d",
   "metadata": {},
   "outputs": [
    {
     "data": {
      "text/plain": [
       "['title',\n",
       " 'meta',\n",
       " 'meta',\n",
       " 'meta',\n",
       " 'meta',\n",
       " 'link',\n",
       " 'link',\n",
       " 'link',\n",
       " 'link',\n",
       " 'link']"
      ]
     },
     "execution_count": 122,
     "metadata": {},
     "output_type": "execute_result"
    }
   ],
   "source": [
    "tags[0:10]"
   ]
  },
  {
   "cell_type": "code",
   "execution_count": 123,
   "id": "3e26c5d2",
   "metadata": {},
   "outputs": [],
   "source": [
    "tagsCount = Counter(tags)\n",
    "uniqueTags = list(tagsCount.keys())\n",
    "countValues = list(tagsCount.values())"
   ]
  },
  {
   "cell_type": "code",
   "execution_count": 124,
   "id": "c240e772",
   "metadata": {},
   "outputs": [
    {
     "data": {
      "image/png": "[encoded data removed]",
      "text/plain": [
       "<Figure size 1440x720 with 1 Axes>"
      ]
     },
     "metadata": {
      "needs_background": "light"
     },
     "output_type": "display_data"
    }
   ],
   "source": [
    "fig = plt.figure(figsize = (20, 10))\n",
    "plt.bar(uniqueTags, countValues, color ='maroon',width = 0.5)\n",
    "plt.xlabel(\"tags\")\n",
    "plt.ylabel(\"Count\")\n",
    "plt.title(\"tags Bar Chart\")\n",
    "plt.show()"
   ]
  },
  {
   "cell_type": "code",
   "execution_count": 125,
   "id": "bbd55c50",
   "metadata": {},
   "outputs": [
    {
     "data": {
      "text/plain": [
       "['At Delhi Oxygen Hearing, \"Brother Judge\" Sends NDTV News On WhatsApp',\n",
       " '',\n",
       " '',\n",
       " '',\n",
       " '']"
      ]
     },
     "execution_count": 125,
     "metadata": {},
     "output_type": "execute_result"
    }
   ],
   "source": [
    "texts[0:5]"
   ]
  },
  {
   "cell_type": "code",
   "execution_count": 126,
   "id": "efad2dc1",
   "metadata": {},
   "outputs": [
    {
     "data": {
      "text/plain": [
       "[{},\n",
       " {'name': 'news_keywords',\n",
       "  'content': 'Coronavirus,Delhi High Court,NDTV',\n",
       "  'itemprop': 'keywords'},\n",
       " {'name': 'description',\n",
       "  'content': \"The full horror of an oxygen shortage in Delhi's Covid spiral sank in before the High Court today when NDTV's reports on top hospitals running out of oxygen were flagged by one of the judges.\",\n",
       "  'itemprop': 'description'},\n",
       " {'name': 'section', 'content': 'india', 'itemprop': 'articleSection'},\n",
       " {'name': 'url',\n",
       "  'content': 'https://www.ndtv.com/india-news/ndtv-news-on-oxygen-supply-cited-by-delhi-high-court-2418022',\n",
       "  'itemprop': 'url'}]"
      ]
     },
     "execution_count": 126,
     "metadata": {},
     "output_type": "execute_result"
    }
   ],
   "source": [
    "attrs[0:5]"
   ]
  },
  {
   "cell_type": "markdown",
   "id": "625f0831",
   "metadata": {},
   "source": [
    "### Feature selection"
   ]
  },
  {
   "cell_type": "code",
   "execution_count": 127,
   "id": "a60985f9",
   "metadata": {},
   "outputs": [],
   "source": [
    "texts = pd.Series(texts)\n",
    "column = list(set(tags))\n",
    "\n",
    "data = []\n",
    "\n",
    "for i in range(0, len(tags)):\n",
    "    data1 = []\n",
    "    for j in range(0, len(column)):\n",
    "        if tags[i] == column[j]:\n",
    "            data1.append(1)\n",
    "        else:\n",
    "            data1.append(0)\n",
    "    data.append(data1)\n",
    "\n",
    "initialDf = pd.DataFrame(columns=column, data=data)"
   ]
  },
  {
   "cell_type": "code",
   "execution_count": 128,
   "id": "813b0455",
   "metadata": {},
   "outputs": [
    {
     "data": {
      "text/html": [
       "<div>\n",
       "<style scoped>\n",
       "    .dataframe tbody tr th:only-of-type {\n",
       "        vertical-align: middle;\n",
       "    }\n",
       "\n",
       "    .dataframe tbody tr th {\n",
       "        vertical-align: top;\n",
       "    }\n",
       "\n",
       "    .dataframe thead th {\n",
       "        text-align: right;\n",
       "    }\n",
       "</style>\n",
       "<table border=\"1\" class=\"dataframe\">\n",
       "  <thead>\n",
       "    <tr style=\"text-align: right;\">\n",
       "      <th></th>\n",
       "      <th>svg</th>\n",
       "      <th>title</th>\n",
       "      <th>meta</th>\n",
       "      <th>form</th>\n",
       "      <th>use</th>\n",
       "      <th>noscript</th>\n",
       "      <th>li</th>\n",
       "      <th>blockquote</th>\n",
       "      <th>p</th>\n",
       "      <th>link</th>\n",
       "      <th>...</th>\n",
       "      <th>h1</th>\n",
       "      <th>article</th>\n",
       "      <th>h3</th>\n",
       "      <th>nav</th>\n",
       "      <th>footer</th>\n",
       "      <th>header</th>\n",
       "      <th>button</th>\n",
       "      <th>h2</th>\n",
       "      <th>path</th>\n",
       "      <th>b</th>\n",
       "    </tr>\n",
       "  </thead>\n",
       "  <tbody>\n",
       "    <tr>\n",
       "      <th>0</th>\n",
       "      <td>0</td>\n",
       "      <td>1</td>\n",
       "      <td>0</td>\n",
       "      <td>0</td>\n",
       "      <td>0</td>\n",
       "      <td>0</td>\n",
       "      <td>0</td>\n",
       "      <td>0</td>\n",
       "      <td>0</td>\n",
       "      <td>0</td>\n",
       "      <td>...</td>\n",
       "      <td>0</td>\n",
       "      <td>0</td>\n",
       "      <td>0</td>\n",
       "      <td>0</td>\n",
       "      <td>0</td>\n",
       "      <td>0</td>\n",
       "      <td>0</td>\n",
       "      <td>0</td>\n",
       "      <td>0</td>\n",
       "      <td>0</td>\n",
       "    </tr>\n",
       "    <tr>\n",
       "      <th>1</th>\n",
       "      <td>0</td>\n",
       "      <td>0</td>\n",
       "      <td>1</td>\n",
       "      <td>0</td>\n",
       "      <td>0</td>\n",
       "      <td>0</td>\n",
       "      <td>0</td>\n",
       "      <td>0</td>\n",
       "      <td>0</td>\n",
       "      <td>0</td>\n",
       "      <td>...</td>\n",
       "      <td>0</td>\n",
       "      <td>0</td>\n",
       "      <td>0</td>\n",
       "      <td>0</td>\n",
       "      <td>0</td>\n",
       "      <td>0</td>\n",
       "      <td>0</td>\n",
       "      <td>0</td>\n",
       "      <td>0</td>\n",
       "      <td>0</td>\n",
       "    </tr>\n",
       "    <tr>\n",
       "      <th>2</th>\n",
       "      <td>0</td>\n",
       "      <td>0</td>\n",
       "      <td>1</td>\n",
       "      <td>0</td>\n",
       "      <td>0</td>\n",
       "      <td>0</td>\n",
       "      <td>0</td>\n",
       "      <td>0</td>\n",
       "      <td>0</td>\n",
       "      <td>0</td>\n",
       "      <td>...</td>\n",
       "      <td>0</td>\n",
       "      <td>0</td>\n",
       "      <td>0</td>\n",
       "      <td>0</td>\n",
       "      <td>0</td>\n",
       "      <td>0</td>\n",
       "      <td>0</td>\n",
       "      <td>0</td>\n",
       "      <td>0</td>\n",
       "      <td>0</td>\n",
       "    </tr>\n",
       "    <tr>\n",
       "      <th>3</th>\n",
       "      <td>0</td>\n",
       "      <td>0</td>\n",
       "      <td>1</td>\n",
       "      <td>0</td>\n",
       "      <td>0</td>\n",
       "      <td>0</td>\n",
       "      <td>0</td>\n",
       "      <td>0</td>\n",
       "      <td>0</td>\n",
       "      <td>0</td>\n",
       "      <td>...</td>\n",
       "      <td>0</td>\n",
       "      <td>0</td>\n",
       "      <td>0</td>\n",
       "      <td>0</td>\n",
       "      <td>0</td>\n",
       "      <td>0</td>\n",
       "      <td>0</td>\n",
       "      <td>0</td>\n",
       "      <td>0</td>\n",
       "      <td>0</td>\n",
       "    </tr>\n",
       "    <tr>\n",
       "      <th>4</th>\n",
       "      <td>0</td>\n",
       "      <td>0</td>\n",
       "      <td>1</td>\n",
       "      <td>0</td>\n",
       "      <td>0</td>\n",
       "      <td>0</td>\n",
       "      <td>0</td>\n",
       "      <td>0</td>\n",
       "      <td>0</td>\n",
       "      <td>0</td>\n",
       "      <td>...</td>\n",
       "      <td>0</td>\n",
       "      <td>0</td>\n",
       "      <td>0</td>\n",
       "      <td>0</td>\n",
       "      <td>0</td>\n",
       "      <td>0</td>\n",
       "      <td>0</td>\n",
       "      <td>0</td>\n",
       "      <td>0</td>\n",
       "      <td>0</td>\n",
       "    </tr>\n",
       "  </tbody>\n",
       "</table>\n",
       "<p>5 rows × 32 columns</p>\n",
       "</div>"
      ],
      "text/plain": [
       "   svg  title  meta  form  use  noscript  li  blockquote  p  link  ...  h1  \\\n",
       "0    0      1     0     0    0         0   0           0  0     0  ...   0   \n",
       "1    0      0     1     0    0         0   0           0  0     0  ...   0   \n",
       "2    0      0     1     0    0         0   0           0  0     0  ...   0   \n",
       "3    0      0     1     0    0         0   0           0  0     0  ...   0   \n",
       "4    0      0     1     0    0         0   0           0  0     0  ...   0   \n",
       "\n",
       "   article  h3  nav  footer  header  button  h2  path  b  \n",
       "0        0   0    0       0       0       0   0     0  0  \n",
       "1        0   0    0       0       0       0   0     0  0  \n",
       "2        0   0    0       0       0       0   0     0  0  \n",
       "3        0   0    0       0       0       0   0     0  0  \n",
       "4        0   0    0       0       0       0   0     0  0  \n",
       "\n",
       "[5 rows x 32 columns]"
      ]
     },
     "execution_count": 128,
     "metadata": {},
     "output_type": "execute_result"
    }
   ],
   "source": [
    "initialDf.head()"
   ]
  },
  {
   "cell_type": "markdown",
   "id": "e1130032",
   "metadata": {},
   "source": [
    "## Normalization"
   ]
  },
  {
   "cell_type": "code",
   "execution_count": 129,
   "id": "22a3fecc",
   "metadata": {},
   "outputs": [],
   "source": [
    "def normalize(df):\n",
    "    std = StandardScaler()\n",
    "\n",
    "    df = std.fit_transform(df)\n",
    "\n",
    "    return pd.DataFrame(df)"
   ]
  },
  {
   "cell_type": "markdown",
   "id": "ce58ad47",
   "metadata": {},
   "source": [
    "## DBSCAN Clustering"
   ]
  },
  {
   "cell_type": "code",
   "execution_count": 130,
   "id": "ccbe196f",
   "metadata": {},
   "outputs": [],
   "source": [
    "def clusteringDB(df):\n",
    "    clustering = DBSCAN().fit(df)\n",
    "\n",
    "    uniqueClusters = set(clustering.labels_)\n",
    "\n",
    "    df[\"cluster\"] =[i+1 for i in clustering.labels_]\n",
    "    \n",
    "    return uniqueClusters,clustering,df"
   ]
  },
  {
   "cell_type": "markdown",
   "id": "87abd99a",
   "metadata": {},
   "source": [
    "## Relavance Score"
   ]
  },
  {
   "cell_type": "code",
   "execution_count": 131,
   "id": "28ad2240",
   "metadata": {},
   "outputs": [],
   "source": [
    "def relevanceScore(uniqueClusters,df):\n",
    "    score = [0 for i in range(len(uniqueClusters))]\n",
    "\n",
    "    for i in range(0, df.shape[0]):\n",
    "        score[int(df.loc[i][\"cluster\"])] = score[int(df.loc[i][\"cluster\"])] + LCS.lcs(metaContentStr,texts[i])\n",
    "    \n",
    "    return score"
   ]
  },
  {
   "cell_type": "markdown",
   "id": "dafd926a",
   "metadata": {},
   "source": [
    "## Finding the cluster with Maximum Score"
   ]
  },
  {
   "cell_type": "code",
   "execution_count": 132,
   "id": "5b78abef",
   "metadata": {},
   "outputs": [],
   "source": [
    "def highScore(score):\n",
    "    maxScoreClusters = heapq.nlargest(2, range(len(score)), key=score.__getitem__)\n",
    "    \n",
    "    return maxScoreClusters"
   ]
  },
  {
   "cell_type": "markdown",
   "id": "4a31a943",
   "metadata": {},
   "source": [
    "## Marking the Label"
   ]
  },
  {
   "cell_type": "code",
   "execution_count": 133,
   "id": "2bfb99d1",
   "metadata": {},
   "outputs": [],
   "source": [
    "def labelMarking(maxScoreClusters,df):\n",
    "    label = []\n",
    "\n",
    "    for i in range(0,df.shape[0]):\n",
    "        if (int(df.loc[i][\"cluster\"]) == maxScoreClusters[0]) or (int(df.loc[i][\"cluster\"]) == maxScoreClusters[1]):\n",
    "            label.append(1)\n",
    "        else:\n",
    "            label.append(0)\n",
    "\n",
    "    df[\"label\"] = label\n",
    "    \n",
    "    return df"
   ]
  },
  {
   "cell_type": "markdown",
   "id": "2a0a4f13",
   "metadata": {},
   "source": [
    "## Train and Test Data split"
   ]
  },
  {
   "cell_type": "code",
   "execution_count": 134,
   "id": "8f5a9c19",
   "metadata": {},
   "outputs": [],
   "source": [
    "def trainTestSplit(df):\n",
    "    df1 = df.drop(columns=\"cluster\")\n",
    "\n",
    "    X = df1.drop(columns=\"label\")\n",
    "    y = df1[\"label\"]\n",
    "    \n",
    "    X_train, X_test, y_train, y_test = train_test_split(X, y, test_size=0.33, random_state=42)\n",
    "    \n",
    "    return X_train, X_test, y_train, y_test"
   ]
  },
  {
   "cell_type": "markdown",
   "id": "2fcd74e5",
   "metadata": {},
   "source": [
    "## SVM Classification and Prediction"
   ]
  },
  {
   "cell_type": "code",
   "execution_count": 135,
   "id": "79b6e6df",
   "metadata": {},
   "outputs": [],
   "source": [
    "def svmModel(X_train,y_train,X_test):\n",
    "    svmModel = SVC()\n",
    "    svmModel.fit(X_train,y_train)\n",
    "    \n",
    "    prediction = svmModel.predict(X_test)\n",
    "    \n",
    "    return prediction"
   ]
  },
  {
   "cell_type": "markdown",
   "id": "0e8ab915",
   "metadata": {},
   "source": [
    "## F1 Score and Confusion Matrix"
   ]
  },
  {
   "cell_type": "code",
   "execution_count": 136,
   "id": "36adc12f",
   "metadata": {},
   "outputs": [],
   "source": [
    "def performance(y_test,prediction):\n",
    "    f1Score = f1_score(y_test,prediction)\n",
    "    cf_matrix = confusion_matrix(y_test,prediction)\n",
    "    \n",
    "    print(\"F1 Score of SVM Model\")\n",
    "    print(f1Score)\n",
    "    \n",
    "    print('Confusion Matrix')\n",
    "    sns.heatmap(cf_matrix, annot=True)\n",
    "\n",
    "    "
   ]
  },
  {
   "cell_type": "code",
   "execution_count": null,
   "id": "f265c224",
   "metadata": {},
   "outputs": [],
   "source": []
  },
  {
   "cell_type": "markdown",
   "id": "310cf49c",
   "metadata": {},
   "source": [
    "### Text Length as Feature"
   ]
  },
  {
   "cell_type": "code",
   "execution_count": 137,
   "id": "338f2d20",
   "metadata": {},
   "outputs": [],
   "source": [
    "textSize = []\n",
    "\n",
    "for text in texts:\n",
    "    textSize.append(len(text))\n",
    "\n",
    "initialDf[\"textSize\"] = textSize"
   ]
  },
  {
   "cell_type": "code",
   "execution_count": 138,
   "id": "e868b13a",
   "metadata": {},
   "outputs": [
    {
     "data": {
      "text/html": [
       "<div>\n",
       "<style scoped>\n",
       "    .dataframe tbody tr th:only-of-type {\n",
       "        vertical-align: middle;\n",
       "    }\n",
       "\n",
       "    .dataframe tbody tr th {\n",
       "        vertical-align: top;\n",
       "    }\n",
       "\n",
       "    .dataframe thead th {\n",
       "        text-align: right;\n",
       "    }\n",
       "</style>\n",
       "<table border=\"1\" class=\"dataframe\">\n",
       "  <thead>\n",
       "    <tr style=\"text-align: right;\">\n",
       "      <th></th>\n",
       "      <th>svg</th>\n",
       "      <th>title</th>\n",
       "      <th>meta</th>\n",
       "      <th>form</th>\n",
       "      <th>use</th>\n",
       "      <th>noscript</th>\n",
       "      <th>li</th>\n",
       "      <th>blockquote</th>\n",
       "      <th>p</th>\n",
       "      <th>link</th>\n",
       "      <th>...</th>\n",
       "      <th>article</th>\n",
       "      <th>h3</th>\n",
       "      <th>nav</th>\n",
       "      <th>footer</th>\n",
       "      <th>header</th>\n",
       "      <th>button</th>\n",
       "      <th>h2</th>\n",
       "      <th>path</th>\n",
       "      <th>b</th>\n",
       "      <th>textSize</th>\n",
       "    </tr>\n",
       "  </thead>\n",
       "  <tbody>\n",
       "    <tr>\n",
       "      <th>0</th>\n",
       "      <td>0</td>\n",
       "      <td>1</td>\n",
       "      <td>0</td>\n",
       "      <td>0</td>\n",
       "      <td>0</td>\n",
       "      <td>0</td>\n",
       "      <td>0</td>\n",
       "      <td>0</td>\n",
       "      <td>0</td>\n",
       "      <td>0</td>\n",
       "      <td>...</td>\n",
       "      <td>0</td>\n",
       "      <td>0</td>\n",
       "      <td>0</td>\n",
       "      <td>0</td>\n",
       "      <td>0</td>\n",
       "      <td>0</td>\n",
       "      <td>0</td>\n",
       "      <td>0</td>\n",
       "      <td>0</td>\n",
       "      <td>68</td>\n",
       "    </tr>\n",
       "    <tr>\n",
       "      <th>1</th>\n",
       "      <td>0</td>\n",
       "      <td>0</td>\n",
       "      <td>1</td>\n",
       "      <td>0</td>\n",
       "      <td>0</td>\n",
       "      <td>0</td>\n",
       "      <td>0</td>\n",
       "      <td>0</td>\n",
       "      <td>0</td>\n",
       "      <td>0</td>\n",
       "      <td>...</td>\n",
       "      <td>0</td>\n",
       "      <td>0</td>\n",
       "      <td>0</td>\n",
       "      <td>0</td>\n",
       "      <td>0</td>\n",
       "      <td>0</td>\n",
       "      <td>0</td>\n",
       "      <td>0</td>\n",
       "      <td>0</td>\n",
       "      <td>0</td>\n",
       "    </tr>\n",
       "    <tr>\n",
       "      <th>2</th>\n",
       "      <td>0</td>\n",
       "      <td>0</td>\n",
       "      <td>1</td>\n",
       "      <td>0</td>\n",
       "      <td>0</td>\n",
       "      <td>0</td>\n",
       "      <td>0</td>\n",
       "      <td>0</td>\n",
       "      <td>0</td>\n",
       "      <td>0</td>\n",
       "      <td>...</td>\n",
       "      <td>0</td>\n",
       "      <td>0</td>\n",
       "      <td>0</td>\n",
       "      <td>0</td>\n",
       "      <td>0</td>\n",
       "      <td>0</td>\n",
       "      <td>0</td>\n",
       "      <td>0</td>\n",
       "      <td>0</td>\n",
       "      <td>0</td>\n",
       "    </tr>\n",
       "    <tr>\n",
       "      <th>3</th>\n",
       "      <td>0</td>\n",
       "      <td>0</td>\n",
       "      <td>1</td>\n",
       "      <td>0</td>\n",
       "      <td>0</td>\n",
       "      <td>0</td>\n",
       "      <td>0</td>\n",
       "      <td>0</td>\n",
       "      <td>0</td>\n",
       "      <td>0</td>\n",
       "      <td>...</td>\n",
       "      <td>0</td>\n",
       "      <td>0</td>\n",
       "      <td>0</td>\n",
       "      <td>0</td>\n",
       "      <td>0</td>\n",
       "      <td>0</td>\n",
       "      <td>0</td>\n",
       "      <td>0</td>\n",
       "      <td>0</td>\n",
       "      <td>0</td>\n",
       "    </tr>\n",
       "    <tr>\n",
       "      <th>4</th>\n",
       "      <td>0</td>\n",
       "      <td>0</td>\n",
       "      <td>1</td>\n",
       "      <td>0</td>\n",
       "      <td>0</td>\n",
       "      <td>0</td>\n",
       "      <td>0</td>\n",
       "      <td>0</td>\n",
       "      <td>0</td>\n",
       "      <td>0</td>\n",
       "      <td>...</td>\n",
       "      <td>0</td>\n",
       "      <td>0</td>\n",
       "      <td>0</td>\n",
       "      <td>0</td>\n",
       "      <td>0</td>\n",
       "      <td>0</td>\n",
       "      <td>0</td>\n",
       "      <td>0</td>\n",
       "      <td>0</td>\n",
       "      <td>0</td>\n",
       "    </tr>\n",
       "  </tbody>\n",
       "</table>\n",
       "<p>5 rows × 33 columns</p>\n",
       "</div>"
      ],
      "text/plain": [
       "   svg  title  meta  form  use  noscript  li  blockquote  p  link  ...  \\\n",
       "0    0      1     0     0    0         0   0           0  0     0  ...   \n",
       "1    0      0     1     0    0         0   0           0  0     0  ...   \n",
       "2    0      0     1     0    0         0   0           0  0     0  ...   \n",
       "3    0      0     1     0    0         0   0           0  0     0  ...   \n",
       "4    0      0     1     0    0         0   0           0  0     0  ...   \n",
       "\n",
       "   article  h3  nav  footer  header  button  h2  path  b  textSize  \n",
       "0        0   0    0       0       0       0   0     0  0        68  \n",
       "1        0   0    0       0       0       0   0     0  0         0  \n",
       "2        0   0    0       0       0       0   0     0  0         0  \n",
       "3        0   0    0       0       0       0   0     0  0         0  \n",
       "4        0   0    0       0       0       0   0     0  0         0  \n",
       "\n",
       "[5 rows x 33 columns]"
      ]
     },
     "execution_count": 138,
     "metadata": {},
     "output_type": "execute_result"
    }
   ],
   "source": [
    "initialDf.head()"
   ]
  },
  {
   "cell_type": "code",
   "execution_count": 139,
   "id": "ca2f02d5",
   "metadata": {},
   "outputs": [
    {
     "name": "stdout",
     "output_type": "stream",
     "text": [
      "F1 Score of SVM Model\n",
      "0.9565217391304348\n",
      "Confusion Matrix\n"
     ]
    },
    {
     "data": {
      "image/png": "[encoded data removed]",
      "text/plain": [
       "<Figure size 432x288 with 2 Axes>"
      ]
     },
     "metadata": {
      "needs_background": "light"
     },
     "output_type": "display_data"
    }
   ],
   "source": [
    "df = normalize(df)\n",
    "uniqueClusters,clustering,df = clusteringDB(df)\n",
    "\n",
    "score = relevanceScore(uniqueClusters,df)\n",
    "\n",
    "maxScoreClusters = highScore(score)\n",
    "\n",
    "df = labelMarking(maxScoreClusters,df)\n",
    "\n",
    "X_train, X_test, y_train, y_test = trainTestSplit(df)\n",
    "\n",
    "prediction = svmModel(X_train,y_train,X_test)\n",
    "\n",
    "performance(y_test,prediction)"
   ]
  },
  {
   "cell_type": "markdown",
   "id": "380c0f9c",
   "metadata": {},
   "source": [
    "### HTML Tags Attribute as Feature"
   ]
  },
  {
   "cell_type": "code",
   "execution_count": 140,
   "id": "6893bd56",
   "metadata": {},
   "outputs": [],
   "source": [
    "attrsColumn = []\n",
    "for i in attrs:\n",
    "    attrsColumn.append(list(i.keys()))\n",
    "\n",
    "attrsColumn = sum(attrsColumn, [])\n",
    "\n",
    "attrsColumn = list(set(attrsColumn))\n",
    "\n",
    "data = []\n",
    "for i in attrs:\n",
    "    idx = []\n",
    "    for j in i.keys():\n",
    "        for k in range(0, len(attrsColumn)):\n",
    "            if j == attrsColumn[k]:\n",
    "                idx.append(k)\n",
    "\n",
    "    data.append([1 if i in idx else 0 for i in range(0, len(attrsColumn))])\n",
    "\n",
    "dummyDf = pd.DataFrame(columns=attrsColumn, data=data)\n",
    "\n",
    "finalDf = pd.concat([initialDf, dummyDf], axis=1, join='inner')\n",
    "\n",
    "df = pd.concat([initialDf, dummyDf], axis=1, join='inner')"
   ]
  },
  {
   "cell_type": "code",
   "execution_count": 141,
   "id": "0f281f6d",
   "metadata": {},
   "outputs": [
    {
     "data": {
      "text/html": [
       "<div>\n",
       "<style scoped>\n",
       "    .dataframe tbody tr th:only-of-type {\n",
       "        vertical-align: middle;\n",
       "    }\n",
       "\n",
       "    .dataframe tbody tr th {\n",
       "        vertical-align: top;\n",
       "    }\n",
       "\n",
       "    .dataframe thead th {\n",
       "        text-align: right;\n",
       "    }\n",
       "</style>\n",
       "<table border=\"1\" class=\"dataframe\">\n",
       "  <thead>\n",
       "    <tr style=\"text-align: right;\">\n",
       "      <th></th>\n",
       "      <th>svg</th>\n",
       "      <th>title</th>\n",
       "      <th>meta</th>\n",
       "      <th>form</th>\n",
       "      <th>use</th>\n",
       "      <th>noscript</th>\n",
       "      <th>li</th>\n",
       "      <th>blockquote</th>\n",
       "      <th>p</th>\n",
       "      <th>link</th>\n",
       "      <th>...</th>\n",
       "      <th>itemscope</th>\n",
       "      <th>dir</th>\n",
       "      <th>target</th>\n",
       "      <th>technology</th>\n",
       "      <th>data-share-url</th>\n",
       "      <th>name</th>\n",
       "      <th>alt</th>\n",
       "      <th>crossorigin</th>\n",
       "      <th>rel</th>\n",
       "      <th>id</th>\n",
       "    </tr>\n",
       "  </thead>\n",
       "  <tbody>\n",
       "    <tr>\n",
       "      <th>0</th>\n",
       "      <td>0</td>\n",
       "      <td>1</td>\n",
       "      <td>0</td>\n",
       "      <td>0</td>\n",
       "      <td>0</td>\n",
       "      <td>0</td>\n",
       "      <td>0</td>\n",
       "      <td>0</td>\n",
       "      <td>0</td>\n",
       "      <td>0</td>\n",
       "      <td>...</td>\n",
       "      <td>0</td>\n",
       "      <td>0</td>\n",
       "      <td>0</td>\n",
       "      <td>0</td>\n",
       "      <td>0</td>\n",
       "      <td>0</td>\n",
       "      <td>0</td>\n",
       "      <td>0</td>\n",
       "      <td>0</td>\n",
       "      <td>0</td>\n",
       "    </tr>\n",
       "    <tr>\n",
       "      <th>1</th>\n",
       "      <td>0</td>\n",
       "      <td>0</td>\n",
       "      <td>1</td>\n",
       "      <td>0</td>\n",
       "      <td>0</td>\n",
       "      <td>0</td>\n",
       "      <td>0</td>\n",
       "      <td>0</td>\n",
       "      <td>0</td>\n",
       "      <td>0</td>\n",
       "      <td>...</td>\n",
       "      <td>0</td>\n",
       "      <td>0</td>\n",
       "      <td>0</td>\n",
       "      <td>0</td>\n",
       "      <td>0</td>\n",
       "      <td>1</td>\n",
       "      <td>0</td>\n",
       "      <td>0</td>\n",
       "      <td>0</td>\n",
       "      <td>0</td>\n",
       "    </tr>\n",
       "    <tr>\n",
       "      <th>2</th>\n",
       "      <td>0</td>\n",
       "      <td>0</td>\n",
       "      <td>1</td>\n",
       "      <td>0</td>\n",
       "      <td>0</td>\n",
       "      <td>0</td>\n",
       "      <td>0</td>\n",
       "      <td>0</td>\n",
       "      <td>0</td>\n",
       "      <td>0</td>\n",
       "      <td>...</td>\n",
       "      <td>0</td>\n",
       "      <td>0</td>\n",
       "      <td>0</td>\n",
       "      <td>0</td>\n",
       "      <td>0</td>\n",
       "      <td>1</td>\n",
       "      <td>0</td>\n",
       "      <td>0</td>\n",
       "      <td>0</td>\n",
       "      <td>0</td>\n",
       "    </tr>\n",
       "    <tr>\n",
       "      <th>3</th>\n",
       "      <td>0</td>\n",
       "      <td>0</td>\n",
       "      <td>1</td>\n",
       "      <td>0</td>\n",
       "      <td>0</td>\n",
       "      <td>0</td>\n",
       "      <td>0</td>\n",
       "      <td>0</td>\n",
       "      <td>0</td>\n",
       "      <td>0</td>\n",
       "      <td>...</td>\n",
       "      <td>0</td>\n",
       "      <td>0</td>\n",
       "      <td>0</td>\n",
       "      <td>0</td>\n",
       "      <td>0</td>\n",
       "      <td>1</td>\n",
       "      <td>0</td>\n",
       "      <td>0</td>\n",
       "      <td>0</td>\n",
       "      <td>0</td>\n",
       "    </tr>\n",
       "    <tr>\n",
       "      <th>4</th>\n",
       "      <td>0</td>\n",
       "      <td>0</td>\n",
       "      <td>1</td>\n",
       "      <td>0</td>\n",
       "      <td>0</td>\n",
       "      <td>0</td>\n",
       "      <td>0</td>\n",
       "      <td>0</td>\n",
       "      <td>0</td>\n",
       "      <td>0</td>\n",
       "      <td>...</td>\n",
       "      <td>0</td>\n",
       "      <td>0</td>\n",
       "      <td>0</td>\n",
       "      <td>0</td>\n",
       "      <td>0</td>\n",
       "      <td>1</td>\n",
       "      <td>0</td>\n",
       "      <td>0</td>\n",
       "      <td>0</td>\n",
       "      <td>0</td>\n",
       "    </tr>\n",
       "  </tbody>\n",
       "</table>\n",
       "<p>5 rows × 91 columns</p>\n",
       "</div>"
      ],
      "text/plain": [
       "   svg  title  meta  form  use  noscript  li  blockquote  p  link  ...  \\\n",
       "0    0      1     0     0    0         0   0           0  0     0  ...   \n",
       "1    0      0     1     0    0         0   0           0  0     0  ...   \n",
       "2    0      0     1     0    0         0   0           0  0     0  ...   \n",
       "3    0      0     1     0    0         0   0           0  0     0  ...   \n",
       "4    0      0     1     0    0         0   0           0  0     0  ...   \n",
       "\n",
       "   itemscope  dir  target  technology  data-share-url  name  alt  crossorigin  \\\n",
       "0          0    0       0           0               0     0    0            0   \n",
       "1          0    0       0           0               0     1    0            0   \n",
       "2          0    0       0           0               0     1    0            0   \n",
       "3          0    0       0           0               0     1    0            0   \n",
       "4          0    0       0           0               0     1    0            0   \n",
       "\n",
       "   rel  id  \n",
       "0    0   0  \n",
       "1    0   0  \n",
       "2    0   0  \n",
       "3    0   0  \n",
       "4    0   0  \n",
       "\n",
       "[5 rows x 91 columns]"
      ]
     },
     "execution_count": 141,
     "metadata": {},
     "output_type": "execute_result"
    }
   ],
   "source": [
    "df.head()"
   ]
  },
  {
   "cell_type": "code",
   "execution_count": 142,
   "id": "cdfe4a5e",
   "metadata": {},
   "outputs": [
    {
     "name": "stdout",
     "output_type": "stream",
     "text": [
      "F1 Score of SVM Model\n",
      "0.9041095890410958\n",
      "Confusion Matrix\n"
     ]
    },
    {
     "data": {
      "image/png": "[encoded data removed]",
      "text/plain": [
       "<Figure size 432x288 with 2 Axes>"
      ]
     },
     "metadata": {
      "needs_background": "light"
     },
     "output_type": "display_data"
    }
   ],
   "source": [
    "df = normalize(df)\n",
    "uniqueClusters,clustering,df = clusteringDB(df)\n",
    "\n",
    "score = relevanceScore(uniqueClusters,df)\n",
    "\n",
    "maxScoreClusters = highScore(score)\n",
    "\n",
    "df = labelMarking(maxScoreClusters,df)\n",
    "\n",
    "X_train, X_test, y_train, y_test = trainTestSplit(df)\n",
    "\n",
    "prediction = svmModel(X_train,y_train,X_test)\n",
    "\n",
    "performance(y_test,prediction)\n"
   ]
  },
  {
   "cell_type": "markdown",
   "id": "6a75ec6c",
   "metadata": {},
   "source": [
    "### JavaScript Keywords as Feature"
   ]
  },
  {
   "cell_type": "code",
   "execution_count": 143,
   "id": "4faff911",
   "metadata": {},
   "outputs": [],
   "source": [
    "keywords = [\"await\", \"break\", \"case\", \"catch\", \"class\", \"const\", \"continue\", \"debugger\",\n",
    "            \"default\", \"delete\", \"do\", \"else\", \"enum\", \"export\", \"extends\", \"false\",\n",
    "            \"finally\", \"for\", \"function\", \"if\", \"implements\", \"import\", \"in\", \"instanceof\", \"interface\",\n",
    "            \"let\", \"new\", \"null\", \"package\", \"private\", \"protected\", \"public\", \"return\", \"super\", \"switch\",\n",
    "            \"static\", \"throw\", \"try\", \"true\", \"typeof\", \"var\", \"void\", \"while\", \"with\", \"yield\",\n",
    "            \"(\", \")\", \"{\", \"}\", \"]\", \"[\", \";\", \".\", \"\\\"\", \"function\", \"console\", \"cmd\", \"display\", \"push\",\n",
    "            \"window\", \"href\", \"\\'\", \"return\"]\n",
    "\n",
    "\n",
    "data=[]\n",
    "for i in str(texts):\n",
    "    data1=[]\n",
    "    for j in keywords:\n",
    "        c = i.count(j)\n",
    "        data1.append(c)\n",
    "    data.append(data1)\n",
    "\n",
    "\n",
    "dummyDf = pd.DataFrame(columns=keywords, data=data)\n",
    "\n",
    "finalDf = pd.concat([finalDf, dummyDf], axis=1, join='inner')\n",
    "\n",
    "df = pd.concat([initialDf, dummyDf], axis=1, join='inner')"
   ]
  },
  {
   "cell_type": "code",
   "execution_count": 144,
   "id": "7c073894",
   "metadata": {},
   "outputs": [
    {
     "data": {
      "text/html": [
       "<div>\n",
       "<style scoped>\n",
       "    .dataframe tbody tr th:only-of-type {\n",
       "        vertical-align: middle;\n",
       "    }\n",
       "\n",
       "    .dataframe tbody tr th {\n",
       "        vertical-align: top;\n",
       "    }\n",
       "\n",
       "    .dataframe thead th {\n",
       "        text-align: right;\n",
       "    }\n",
       "</style>\n",
       "<table border=\"1\" class=\"dataframe\">\n",
       "  <thead>\n",
       "    <tr style=\"text-align: right;\">\n",
       "      <th></th>\n",
       "      <th>svg</th>\n",
       "      <th>title</th>\n",
       "      <th>meta</th>\n",
       "      <th>form</th>\n",
       "      <th>use</th>\n",
       "      <th>noscript</th>\n",
       "      <th>li</th>\n",
       "      <th>blockquote</th>\n",
       "      <th>p</th>\n",
       "      <th>link</th>\n",
       "      <th>...</th>\n",
       "      <th>\"</th>\n",
       "      <th>function</th>\n",
       "      <th>console</th>\n",
       "      <th>cmd</th>\n",
       "      <th>display</th>\n",
       "      <th>push</th>\n",
       "      <th>window</th>\n",
       "      <th>href</th>\n",
       "      <th>'</th>\n",
       "      <th>return</th>\n",
       "    </tr>\n",
       "  </thead>\n",
       "  <tbody>\n",
       "    <tr>\n",
       "      <th>0</th>\n",
       "      <td>0</td>\n",
       "      <td>1</td>\n",
       "      <td>0</td>\n",
       "      <td>0</td>\n",
       "      <td>0</td>\n",
       "      <td>0</td>\n",
       "      <td>0</td>\n",
       "      <td>0</td>\n",
       "      <td>0</td>\n",
       "      <td>0</td>\n",
       "      <td>...</td>\n",
       "      <td>0</td>\n",
       "      <td>0</td>\n",
       "      <td>0</td>\n",
       "      <td>0</td>\n",
       "      <td>0</td>\n",
       "      <td>0</td>\n",
       "      <td>0</td>\n",
       "      <td>0</td>\n",
       "      <td>0</td>\n",
       "      <td>0</td>\n",
       "    </tr>\n",
       "    <tr>\n",
       "      <th>1</th>\n",
       "      <td>0</td>\n",
       "      <td>0</td>\n",
       "      <td>1</td>\n",
       "      <td>0</td>\n",
       "      <td>0</td>\n",
       "      <td>0</td>\n",
       "      <td>0</td>\n",
       "      <td>0</td>\n",
       "      <td>0</td>\n",
       "      <td>0</td>\n",
       "      <td>...</td>\n",
       "      <td>0</td>\n",
       "      <td>0</td>\n",
       "      <td>0</td>\n",
       "      <td>0</td>\n",
       "      <td>0</td>\n",
       "      <td>0</td>\n",
       "      <td>0</td>\n",
       "      <td>0</td>\n",
       "      <td>0</td>\n",
       "      <td>0</td>\n",
       "    </tr>\n",
       "    <tr>\n",
       "      <th>2</th>\n",
       "      <td>0</td>\n",
       "      <td>0</td>\n",
       "      <td>1</td>\n",
       "      <td>0</td>\n",
       "      <td>0</td>\n",
       "      <td>0</td>\n",
       "      <td>0</td>\n",
       "      <td>0</td>\n",
       "      <td>0</td>\n",
       "      <td>0</td>\n",
       "      <td>...</td>\n",
       "      <td>0</td>\n",
       "      <td>0</td>\n",
       "      <td>0</td>\n",
       "      <td>0</td>\n",
       "      <td>0</td>\n",
       "      <td>0</td>\n",
       "      <td>0</td>\n",
       "      <td>0</td>\n",
       "      <td>0</td>\n",
       "      <td>0</td>\n",
       "    </tr>\n",
       "    <tr>\n",
       "      <th>3</th>\n",
       "      <td>0</td>\n",
       "      <td>0</td>\n",
       "      <td>1</td>\n",
       "      <td>0</td>\n",
       "      <td>0</td>\n",
       "      <td>0</td>\n",
       "      <td>0</td>\n",
       "      <td>0</td>\n",
       "      <td>0</td>\n",
       "      <td>0</td>\n",
       "      <td>...</td>\n",
       "      <td>0</td>\n",
       "      <td>0</td>\n",
       "      <td>0</td>\n",
       "      <td>0</td>\n",
       "      <td>0</td>\n",
       "      <td>0</td>\n",
       "      <td>0</td>\n",
       "      <td>0</td>\n",
       "      <td>0</td>\n",
       "      <td>0</td>\n",
       "    </tr>\n",
       "    <tr>\n",
       "      <th>4</th>\n",
       "      <td>0</td>\n",
       "      <td>0</td>\n",
       "      <td>1</td>\n",
       "      <td>0</td>\n",
       "      <td>0</td>\n",
       "      <td>0</td>\n",
       "      <td>0</td>\n",
       "      <td>0</td>\n",
       "      <td>0</td>\n",
       "      <td>0</td>\n",
       "      <td>...</td>\n",
       "      <td>0</td>\n",
       "      <td>0</td>\n",
       "      <td>0</td>\n",
       "      <td>0</td>\n",
       "      <td>0</td>\n",
       "      <td>0</td>\n",
       "      <td>0</td>\n",
       "      <td>0</td>\n",
       "      <td>0</td>\n",
       "      <td>0</td>\n",
       "    </tr>\n",
       "  </tbody>\n",
       "</table>\n",
       "<p>5 rows × 96 columns</p>\n",
       "</div>"
      ],
      "text/plain": [
       "   svg  title  meta  form  use  noscript  li  blockquote  p  link  ...  \"  \\\n",
       "0    0      1     0     0    0         0   0           0  0     0  ...  0   \n",
       "1    0      0     1     0    0         0   0           0  0     0  ...  0   \n",
       "2    0      0     1     0    0         0   0           0  0     0  ...  0   \n",
       "3    0      0     1     0    0         0   0           0  0     0  ...  0   \n",
       "4    0      0     1     0    0         0   0           0  0     0  ...  0   \n",
       "\n",
       "   function  console  cmd  display  push  window  href  '  return  \n",
       "0         0        0    0        0     0       0     0  0       0  \n",
       "1         0        0    0        0     0       0     0  0       0  \n",
       "2         0        0    0        0     0       0     0  0       0  \n",
       "3         0        0    0        0     0       0     0  0       0  \n",
       "4         0        0    0        0     0       0     0  0       0  \n",
       "\n",
       "[5 rows x 96 columns]"
      ]
     },
     "execution_count": 144,
     "metadata": {},
     "output_type": "execute_result"
    }
   ],
   "source": [
    "df.head()"
   ]
  },
  {
   "cell_type": "code",
   "execution_count": 145,
   "id": "1e1dd2cb",
   "metadata": {},
   "outputs": [
    {
     "name": "stdout",
     "output_type": "stream",
     "text": [
      "F1 Score of SVM Model\n",
      "1.0\n",
      "Confusion Matrix\n"
     ]
    },
    {
     "data": {
      "image/png": "[encoded data removed]",
      "text/plain": [
       "<Figure size 432x288 with 2 Axes>"
      ]
     },
     "metadata": {
      "needs_background": "light"
     },
     "output_type": "display_data"
    }
   ],
   "source": [
    "df = normalize(df)\n",
    "uniqueClusters,clustering,df = clusteringDB(df)\n",
    "\n",
    "score = relevanceScore(uniqueClusters,df)\n",
    "\n",
    "maxScoreClusters = highScore(score)\n",
    "\n",
    "df = labelMarking(maxScoreClusters,df)\n",
    "\n",
    "X_train, X_test, y_train, y_test = trainTestSplit(df)\n",
    "\n",
    "prediction = svmModel(X_train,y_train,X_test)\n",
    "\n",
    "performance(y_test,prediction)\n"
   ]
  },
  {
   "cell_type": "markdown",
   "id": "1a05ce0d",
   "metadata": {},
   "source": [
    "### HTML tags CSS Class as attribute"
   ]
  },
  {
   "cell_type": "code",
   "execution_count": 146,
   "id": "f59d5dff",
   "metadata": {},
   "outputs": [],
   "source": [
    "tagsClass = []\n",
    "\n",
    "for attr in attrs:\n",
    "    tagsClass.append(attr.get(\"class\"))\n",
    "\n",
    "classList = []\n",
    "for i in tagsClass:\n",
    "    if i:\n",
    "        for j in i:\n",
    "            classList.append(j)\n",
    "\n",
    "uniqueClass = list(set(classList))\n",
    "\n",
    "data = []\n",
    "zeroes = [0 for i in range(len(uniqueClass))]\n",
    "for iClass in tagsClass:\n",
    "    row=[]\n",
    "    if iClass:\n",
    "        for j in uniqueClass:\n",
    "            if j in iClass:\n",
    "                row.append(1)\n",
    "            else:\n",
    "                row.append(0)\n",
    "        data.append(row)\n",
    "    else:\n",
    "        data.append(zeroes)\n",
    "\n",
    "\n",
    "dummyDf = pd.DataFrame(columns=uniqueClass,data=data)\n",
    "\n",
    "finalDf = pd.concat([finalDf, dummyDf], axis=1, join='inner')\n",
    "\n",
    "df = pd.concat([initialDf, dummyDf], axis=1, join='inner')"
   ]
  },
  {
   "cell_type": "code",
   "execution_count": 147,
   "id": "10f80482",
   "metadata": {},
   "outputs": [
    {
     "data": {
      "text/html": [
       "<div>\n",
       "<style scoped>\n",
       "    .dataframe tbody tr th:only-of-type {\n",
       "        vertical-align: middle;\n",
       "    }\n",
       "\n",
       "    .dataframe tbody tr th {\n",
       "        vertical-align: top;\n",
       "    }\n",
       "\n",
       "    .dataframe thead th {\n",
       "        text-align: right;\n",
       "    }\n",
       "</style>\n",
       "<table border=\"1\" class=\"dataframe\">\n",
       "  <thead>\n",
       "    <tr style=\"text-align: right;\">\n",
       "      <th></th>\n",
       "      <th>svg</th>\n",
       "      <th>title</th>\n",
       "      <th>meta</th>\n",
       "      <th>form</th>\n",
       "      <th>use</th>\n",
       "      <th>noscript</th>\n",
       "      <th>li</th>\n",
       "      <th>blockquote</th>\n",
       "      <th>p</th>\n",
       "      <th>link</th>\n",
       "      <th>...</th>\n",
       "      <th>hid_sml-dvc</th>\n",
       "      <th>imgbrd</th>\n",
       "      <th>reddit</th>\n",
       "      <th>add-section</th>\n",
       "      <th>t-nv_act</th>\n",
       "      <th>trndNumSlds</th>\n",
       "      <th>cmt-ac</th>\n",
       "      <th>m-nv_li</th>\n",
       "      <th>m-nv_lnk</th>\n",
       "      <th>sp-descp</th>\n",
       "    </tr>\n",
       "  </thead>\n",
       "  <tbody>\n",
       "    <tr>\n",
       "      <th>0</th>\n",
       "      <td>0</td>\n",
       "      <td>1</td>\n",
       "      <td>0</td>\n",
       "      <td>0</td>\n",
       "      <td>0</td>\n",
       "      <td>0</td>\n",
       "      <td>0</td>\n",
       "      <td>0</td>\n",
       "      <td>0</td>\n",
       "      <td>0</td>\n",
       "      <td>...</td>\n",
       "      <td>0</td>\n",
       "      <td>0</td>\n",
       "      <td>0</td>\n",
       "      <td>0</td>\n",
       "      <td>0</td>\n",
       "      <td>0</td>\n",
       "      <td>0</td>\n",
       "      <td>0</td>\n",
       "      <td>0</td>\n",
       "      <td>0</td>\n",
       "    </tr>\n",
       "    <tr>\n",
       "      <th>1</th>\n",
       "      <td>0</td>\n",
       "      <td>0</td>\n",
       "      <td>1</td>\n",
       "      <td>0</td>\n",
       "      <td>0</td>\n",
       "      <td>0</td>\n",
       "      <td>0</td>\n",
       "      <td>0</td>\n",
       "      <td>0</td>\n",
       "      <td>0</td>\n",
       "      <td>...</td>\n",
       "      <td>0</td>\n",
       "      <td>0</td>\n",
       "      <td>0</td>\n",
       "      <td>0</td>\n",
       "      <td>0</td>\n",
       "      <td>0</td>\n",
       "      <td>0</td>\n",
       "      <td>0</td>\n",
       "      <td>0</td>\n",
       "      <td>0</td>\n",
       "    </tr>\n",
       "    <tr>\n",
       "      <th>2</th>\n",
       "      <td>0</td>\n",
       "      <td>0</td>\n",
       "      <td>1</td>\n",
       "      <td>0</td>\n",
       "      <td>0</td>\n",
       "      <td>0</td>\n",
       "      <td>0</td>\n",
       "      <td>0</td>\n",
       "      <td>0</td>\n",
       "      <td>0</td>\n",
       "      <td>...</td>\n",
       "      <td>0</td>\n",
       "      <td>0</td>\n",
       "      <td>0</td>\n",
       "      <td>0</td>\n",
       "      <td>0</td>\n",
       "      <td>0</td>\n",
       "      <td>0</td>\n",
       "      <td>0</td>\n",
       "      <td>0</td>\n",
       "      <td>0</td>\n",
       "    </tr>\n",
       "    <tr>\n",
       "      <th>3</th>\n",
       "      <td>0</td>\n",
       "      <td>0</td>\n",
       "      <td>1</td>\n",
       "      <td>0</td>\n",
       "      <td>0</td>\n",
       "      <td>0</td>\n",
       "      <td>0</td>\n",
       "      <td>0</td>\n",
       "      <td>0</td>\n",
       "      <td>0</td>\n",
       "      <td>...</td>\n",
       "      <td>0</td>\n",
       "      <td>0</td>\n",
       "      <td>0</td>\n",
       "      <td>0</td>\n",
       "      <td>0</td>\n",
       "      <td>0</td>\n",
       "      <td>0</td>\n",
       "      <td>0</td>\n",
       "      <td>0</td>\n",
       "      <td>0</td>\n",
       "    </tr>\n",
       "    <tr>\n",
       "      <th>4</th>\n",
       "      <td>0</td>\n",
       "      <td>0</td>\n",
       "      <td>1</td>\n",
       "      <td>0</td>\n",
       "      <td>0</td>\n",
       "      <td>0</td>\n",
       "      <td>0</td>\n",
       "      <td>0</td>\n",
       "      <td>0</td>\n",
       "      <td>0</td>\n",
       "      <td>...</td>\n",
       "      <td>0</td>\n",
       "      <td>0</td>\n",
       "      <td>0</td>\n",
       "      <td>0</td>\n",
       "      <td>0</td>\n",
       "      <td>0</td>\n",
       "      <td>0</td>\n",
       "      <td>0</td>\n",
       "      <td>0</td>\n",
       "      <td>0</td>\n",
       "    </tr>\n",
       "  </tbody>\n",
       "</table>\n",
       "<p>5 rows × 121 columns</p>\n",
       "</div>"
      ],
      "text/plain": [
       "   svg  title  meta  form  use  noscript  li  blockquote  p  link  ...  \\\n",
       "0    0      1     0     0    0         0   0           0  0     0  ...   \n",
       "1    0      0     1     0    0         0   0           0  0     0  ...   \n",
       "2    0      0     1     0    0         0   0           0  0     0  ...   \n",
       "3    0      0     1     0    0         0   0           0  0     0  ...   \n",
       "4    0      0     1     0    0         0   0           0  0     0  ...   \n",
       "\n",
       "   hid_sml-dvc  imgbrd  reddit  add-section  t-nv_act  trndNumSlds  cmt-ac  \\\n",
       "0            0       0       0            0         0            0       0   \n",
       "1            0       0       0            0         0            0       0   \n",
       "2            0       0       0            0         0            0       0   \n",
       "3            0       0       0            0         0            0       0   \n",
       "4            0       0       0            0         0            0       0   \n",
       "\n",
       "   m-nv_li  m-nv_lnk  sp-descp  \n",
       "0        0         0         0  \n",
       "1        0         0         0  \n",
       "2        0         0         0  \n",
       "3        0         0         0  \n",
       "4        0         0         0  \n",
       "\n",
       "[5 rows x 121 columns]"
      ]
     },
     "execution_count": 147,
     "metadata": {},
     "output_type": "execute_result"
    }
   ],
   "source": [
    "df.head()"
   ]
  },
  {
   "cell_type": "code",
   "execution_count": 148,
   "id": "d72bad31",
   "metadata": {},
   "outputs": [
    {
     "name": "stdout",
     "output_type": "stream",
     "text": [
      "F1 Score of SVM Model\n",
      "0.9268292682926829\n",
      "Confusion Matrix\n"
     ]
    },
    {
     "data": {
      "image/png": "[encoded data removed]",
      "text/plain": [
       "<Figure size 432x288 with 2 Axes>"
      ]
     },
     "metadata": {
      "needs_background": "light"
     },
     "output_type": "display_data"
    }
   ],
   "source": [
    "df = normalize(df)\n",
    "uniqueClusters,clustering,df = clusteringDB(df)\n",
    "\n",
    "score = relevanceScore(uniqueClusters,df)\n",
    "\n",
    "maxScoreClusters = highScore(score)\n",
    "\n",
    "df = labelMarking(maxScoreClusters,df)\n",
    "\n",
    "X_train, X_test, y_train, y_test = trainTestSplit(df)\n",
    "\n",
    "prediction = svmModel(X_train,y_train,X_test)\n",
    "\n",
    "performance(y_test,prediction)\n"
   ]
  },
  {
   "cell_type": "markdown",
   "id": "6d20ddaa",
   "metadata": {},
   "source": [
    "## Combined DataSet"
   ]
  },
  {
   "cell_type": "code",
   "execution_count": 149,
   "id": "5aa747c3",
   "metadata": {},
   "outputs": [
    {
     "name": "stdout",
     "output_type": "stream",
     "text": [
      "F1 Score of SVM Model\n",
      "0.9380530973451328\n",
      "Confusion Matrix\n"
     ]
    },
    {
     "data": {
      "image/png": "[encoded data removed]",
      "text/plain": [
       "<Figure size 432x288 with 2 Axes>"
      ]
     },
     "metadata": {
      "needs_background": "light"
     },
     "output_type": "display_data"
    }
   ],
   "source": [
    "df = normalize(finalDf)\n",
    "uniqueClusters,clustering,df = clusteringDB(df)\n",
    "\n",
    "score = relevanceScore(uniqueClusters,df)\n",
    "\n",
    "maxScoreClusters = highScore(score)\n",
    "\n",
    "df = labelMarking(maxScoreClusters,df)\n",
    "\n",
    "X_train, X_test, y_train, y_test = trainTestSplit(df)\n",
    "\n",
    "prediction = svmModel(X_train,y_train,X_test)\n",
    "\n",
    "performance(y_test,prediction)\n"
   ]
  },
  {
   "cell_type": "code",
   "execution_count": null,
   "id": "82511a82",
   "metadata": {},
   "outputs": [],
   "source": []
  },
  {
   "cell_type": "code",
   "execution_count": null,
   "id": "2067d09e",
   "metadata": {},
   "outputs": [],
   "source": []
  }
 ],
 "metadata": {
  "kernelspec": {
   "display_name": "Python 3",
   "language": "python",
   "name": "python3"
  },
  "language_info": {
   "codemirror_mode": {
    "name": "ipython",
    "version": 3
   },
   "file_extension": ".py",
   "mimetype": "text/x-python",
   "name": "python",
   "nbconvert_exporter": "python",
   "pygments_lexer": "ipython3",
   "version": "3.8.8"
  }
 },
 "nbformat": 4,
 "nbformat_minor": 5
}
